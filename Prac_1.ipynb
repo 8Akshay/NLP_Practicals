{
  "nbformat": 4,
  "nbformat_minor": 0,
  "metadata": {
    "colab": {
      "name": "Prac_1.ipynb",
      "provenance": [],
      "collapsed_sections": [],
      "authorship_tag": "ABX9TyNBSHoDCQ9YCbzDdmnG+hTb",
      "include_colab_link": true
    },
    "kernelspec": {
      "name": "python3",
      "display_name": "Python 3"
    },
    "language_info": {
      "name": "python"
    }
  },
  "cells": [
    {
      "cell_type": "markdown",
      "metadata": {
        "id": "view-in-github",
        "colab_type": "text"
      },
      "source": [
        "<a href=\"https://colab.research.google.com/github/8Akshay/NLP_Practicals/blob/main/Prac_1.ipynb\" target=\"_parent\"><img src=\"https://colab.research.google.com/assets/colab-badge.svg\" alt=\"Open In Colab\"/></a>"
      ]
    },
    {
      "cell_type": "code",
      "metadata": {
        "id": "y5ifi3-P5RoV"
      },
      "source": [
        "from nltk.tokenize import RegexpTokenizer"
      ],
      "execution_count": null,
      "outputs": []
    },
    {
      "cell_type": "code",
      "metadata": {
        "id": "f1XWAJCL5oul"
      },
      "source": [
        "tk = RegexpTokenizer('\\s+', gaps = True)"
      ],
      "execution_count": null,
      "outputs": []
    },
    {
      "cell_type": "code",
      "metadata": {
        "id": "LdyuuULm5sJy"
      },
      "source": [
        "gfg = \"Regular expressions or RegEx is a sequence of characters mainly used to find or replace patterns embedded in the text.\""
      ],
      "execution_count": null,
      "outputs": []
    },
    {
      "cell_type": "code",
      "metadata": {
        "colab": {
          "base_uri": "https://localhost:8080/"
        },
        "id": "R6vLrK6d5wBI",
        "outputId": "a2551abd-fd1a-42c2-accd-5c22f3125837"
      },
      "source": [
        "REGEX = tk.tokenize(gfg)\n",
        "print(REGEX)"
      ],
      "execution_count": null,
      "outputs": [
        {
          "output_type": "stream",
          "text": [
            "['Regular', 'expressions', 'or', 'RegEx', 'is', 'a', 'sequence', 'of', 'characters', 'mainly', 'used', 'to', 'find', 'or', 'replace', 'patterns', 'embedded', 'in', 'the', 'text.']\n"
          ],
          "name": "stdout"
        }
      ]
    }
  ]
}