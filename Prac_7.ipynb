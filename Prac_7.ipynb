{
  "nbformat": 4,
  "nbformat_minor": 0,
  "metadata": {
    "colab": {
      "name": "Prac_7.ipynb",
      "provenance": [],
      "authorship_tag": "ABX9TyM89aDqf//8npjPIpW9a79y",
      "include_colab_link": true
    },
    "kernelspec": {
      "name": "python3",
      "display_name": "Python 3"
    },
    "language_info": {
      "name": "python"
    }
  },
  "cells": [
    {
      "cell_type": "markdown",
      "metadata": {
        "id": "view-in-github",
        "colab_type": "text"
      },
      "source": [
        "<a href=\"https://colab.research.google.com/github/8Akshay/NLP_Practicals/blob/main/Prac_7.ipynb\" target=\"_parent\"><img src=\"https://colab.research.google.com/assets/colab-badge.svg\" alt=\"Open In Colab\"/></a>"
      ]
    },
    {
      "cell_type": "code",
      "metadata": {
        "colab": {
          "base_uri": "https://localhost:8080/"
        },
        "id": "HTgAlocRYN3S",
        "outputId": "4b555d37-a55f-4f28-94f4-c7645bb9e69d"
      },
      "source": [
        " nltk.download('punkt')\n",
        " nltk.download('averaged_perceptron_tagger')\n",
        " from nltk.tokenize import word_tokenize\n",
        " from nltk import pos_tag\n"
      ],
      "execution_count": 15,
      "outputs": [
        {
          "output_type": "stream",
          "text": [
            "[nltk_data] Downloading package punkt to /root/nltk_data...\n",
            "[nltk_data]   Unzipping tokenizers/punkt.zip.\n",
            "[nltk_data] Downloading package averaged_perceptron_tagger to\n",
            "[nltk_data]     /root/nltk_data...\n",
            "[nltk_data]   Unzipping taggers/averaged_perceptron_tagger.zip.\n"
          ],
          "name": "stdout"
        }
      ]
    },
    {
      "cell_type": "code",
      "metadata": {
        "id": "ovwvOpiqY-nS"
      },
      "source": [
        "import nltk "
      ],
      "execution_count": 14,
      "outputs": []
    },
    {
      "cell_type": "code",
      "metadata": {
        "colab": {
          "base_uri": "https://localhost:8080/"
        },
        "id": "Ilz4vgM_Y4el",
        "outputId": "2e64d88e-c577-4ccb-d2c3-bf03a9d2507a"
      },
      "source": [
        "pip install nltk"
      ],
      "execution_count": 12,
      "outputs": [
        {
          "output_type": "stream",
          "text": [
            "Requirement already satisfied: nltk in /usr/local/lib/python3.7/dist-packages (3.2.5)\n",
            "Requirement already satisfied: six in /usr/local/lib/python3.7/dist-packages (from nltk) (1.15.0)\n"
          ],
          "name": "stdout"
        }
      ]
    },
    {
      "cell_type": "code",
      "metadata": {
        "id": "4V8_fnh5ZBuS"
      },
      "source": [
        "def pos_tagging(text):\n",
        "  word_tokens = word_tokenize(text)\n",
        "  return pos_tag(word_tokens)\n",
        "  pos_tagging('You just gave me a scare')\n"
      ],
      "execution_count": 17,
      "outputs": []
    },
    {
      "cell_type": "code",
      "metadata": {
        "colab": {
          "base_uri": "https://localhost:8080/"
        },
        "id": "ybWWy9xCZSFJ",
        "outputId": "5afba2e7-844b-411f-afe3-1756df74bc2b"
      },
      "source": [
        "nltk.download('tagsets')"
      ],
      "execution_count": 18,
      "outputs": [
        {
          "output_type": "stream",
          "text": [
            "[nltk_data] Downloading package tagsets to /root/nltk_data...\n",
            "[nltk_data]   Unzipping help/tagsets.zip.\n"
          ],
          "name": "stdout"
        },
        {
          "output_type": "execute_result",
          "data": {
            "text/plain": [
              "True"
            ]
          },
          "metadata": {
            "tags": []
          },
          "execution_count": 18
        }
      ]
    },
    {
      "cell_type": "code",
      "metadata": {
        "colab": {
          "base_uri": "https://localhost:8080/"
        },
        "id": "WqaCm4kNZTVR",
        "outputId": "e33ebc49-0d05-43af-ffab-ba5f252482d1"
      },
      "source": [
        "nltk.help.upenn_tagset('NN')"
      ],
      "execution_count": 19,
      "outputs": [
        {
          "output_type": "stream",
          "text": [
            "NN: noun, common, singular or mass\n",
            "    common-carrier cabbage knuckle-duster Casino afghan shed thermostat\n",
            "    investment slide humour falloff slick wind hyena override subhumanity\n",
            "    machinist ...\n"
          ],
          "name": "stdout"
        }
      ]
    },
    {
      "cell_type": "code",
      "metadata": {
        "id": "ktcTnWQQZYmp"
      },
      "source": [
        "from nltk.chunk.regexp import tag_pattern2re_pattern"
      ],
      "execution_count": 20,
      "outputs": []
    },
    {
      "cell_type": "code",
      "metadata": {
        "colab": {
          "base_uri": "https://localhost:8080/"
        },
        "id": "sy0rC3PWZbNR",
        "outputId": "8214c3ce-35c2-4617-bd7c-bd76906b96bd"
      },
      "source": [
        "print(\"Chunk Pattern : \", tag_pattern2re_pattern('<DT>?<NN.*>+'))"
      ],
      "execution_count": 21,
      "outputs": [
        {
          "output_type": "stream",
          "text": [
            "Chunk Pattern :  (<(DT)>)?(<(NN[^\\{\\}<>]*)>)+\n"
          ],
          "name": "stdout"
        }
      ]
    },
    {
      "cell_type": "code",
      "metadata": {
        "id": "YjPt2SVBZcUp"
      },
      "source": [
        "locs = [('Omnicom', 'IN', 'New York'),\n",
        "...         ('DDB Needham', 'IN', 'New York'),\n",
        "...         ('Kaplan Thaler Group', 'IN', 'New York'),\n",
        "...         ('BBDO South', 'IN', 'Atlanta'),\n",
        "...         ('Georgia-Pacific', 'IN', 'Atlanta')]\n"
      ],
      "execution_count": 22,
      "outputs": []
    },
    {
      "cell_type": "code",
      "metadata": {
        "id": "9smI-m8wZffS"
      },
      "source": [
        "query = [e1 for (e1, rel, e2) in locs if e2=='Atlanta']"
      ],
      "execution_count": 23,
      "outputs": []
    },
    {
      "cell_type": "code",
      "metadata": {
        "colab": {
          "base_uri": "https://localhost:8080/"
        },
        "id": "t8AATIsGZi7C",
        "outputId": "7f14174b-d2ea-438d-e542-43b7fea494d6"
      },
      "source": [
        "print(query)\n",
        "\n"
      ],
      "execution_count": 24,
      "outputs": [
        {
          "output_type": "stream",
          "text": [
            "['BBDO South', 'Georgia-Pacific']\n"
          ],
          "name": "stdout"
        }
      ]
    },
    {
      "cell_type": "code",
      "metadata": {
        "id": "Mqy324txZma7"
      },
      "source": [
        "def ie_preprocess(document):\n",
        "...    sentences = nltk.sent_tokenize(document) \n",
        "...    sentences = [nltk.word_tokenize(sent) for sent in sentences]\n",
        "...    sentences = [nltk.pos_tag(sent) for sent in sentences] \n",
        "\n"
      ],
      "execution_count": 25,
      "outputs": []
    },
    {
      "cell_type": "code",
      "metadata": {
        "id": "vD2o0S2jZnd8"
      },
      "source": [
        "sentence = [(\"the\", \"DT\"), (\"little\", \"JJ\"), (\"yellow\", \"JJ\"),\n",
        "... (\"dog\", \"NN\"), (\"barked\", \"VBD\"), (\"at\", \"IN\"),  (\"the\", \"DT\"), (\"cat\", \"NN\")]\n"
      ],
      "execution_count": 26,
      "outputs": []
    },
    {
      "cell_type": "code",
      "metadata": {
        "id": "7gX1rNO1Zp7S"
      },
      "source": [
        "grammar = \"NP: {<DT>?<JJ>*<NN>}\""
      ],
      "execution_count": 27,
      "outputs": []
    },
    {
      "cell_type": "code",
      "metadata": {
        "id": "I1o3H2IxZsyY"
      },
      "source": [
        "cp = nltk.RegexpParser(grammar)"
      ],
      "execution_count": 28,
      "outputs": []
    },
    {
      "cell_type": "code",
      "metadata": {
        "colab": {
          "base_uri": "https://localhost:8080/"
        },
        "id": "U5QdaQ-hZwGb",
        "outputId": "4920495a-c48f-4ae2-baff-97c8c7ff17e1"
      },
      "source": [
        "result = cp.parse(sentence)\n",
        "print(result)\n"
      ],
      "execution_count": 30,
      "outputs": [
        {
          "output_type": "stream",
          "text": [
            "(S\n",
            "  (NP the/DT little/JJ yellow/JJ dog/NN)\n",
            "  barked/VBD\n",
            "  at/IN\n",
            "  (NP the/DT cat/NN))\n"
          ],
          "name": "stdout"
        }
      ]
    },
    {
      "cell_type": "code",
      "metadata": {
        "colab": {
          "base_uri": "https://localhost:8080/"
        },
        "id": "OnkKSfELZ249",
        "outputId": "1eb74f29-65e9-431c-fe49-a15e15580675"
      },
      "source": [
        "grammar = r\"\"\"\n",
        "NP: {<DT|PP\\$>?<JJ>*<NN>}  \n",
        "    \t\t\t\t  {<NNP>+}                \n",
        "\"\"\"\n",
        "cp = nltk.RegexpParser(grammar)\n",
        "sentence = [(\"Rapunzel\", \"NNP\"), (\"let\", \"VBD\"), (\"down\", \"RP\"), \n",
        "                 (\"her\", \"PP$\"), (\"long\", \"JJ\"), (\"golden\", \"JJ\"), (\"hair\", \"NN\")]\n",
        "print(cp.parse(sentence))\n",
        "nouns = [(\"money\", \"NN\"), (\"market\", \"NN\"), (\"fund\", \"NN\")]\n",
        "grammar = \"NP: {<NN><NN>}  # Chunk two consecutive nouns\"\n",
        "cp = nltk.RegexpParser(grammar)\n",
        "print(cp.parse(nouns))\n"
      ],
      "execution_count": 35,
      "outputs": [
        {
          "output_type": "stream",
          "text": [
            "(S\n",
            "  (NP Rapunzel/NNP)\n",
            "  let/VBD\n",
            "  down/RP\n",
            "  (NP her/PP$ long/JJ golden/JJ hair/NN))\n",
            "(S (NP money/NN market/NN) fund/NN)\n"
          ],
          "name": "stdout"
        }
      ]
    },
    {
      "cell_type": "code",
      "metadata": {
        "colab": {
          "base_uri": "https://localhost:8080/"
        },
        "id": "sQ8twG6DaKQy",
        "outputId": "9ef73628-fc8f-4cbc-c8d7-5615137e7631"
      },
      "source": [
        "nltk.download('words')\n",
        "nltk.download('maxent_ne_chunker')\n",
        "from nltk.tokenize import word_tokenize\n",
        "from nltk import pos_tag, ne_chunk\n",
        "def named_entity_recognition(text):\n",
        "  # tokenize the text\n",
        "   word_tokens = word_tokenize(text)\n",
        "\n",
        "  # part of speech tagging of words\n",
        "   word_pos = pos_tag(word_tokens)\n",
        "  # tree of word entities\n",
        "   print(ne_chunk(word_pos))\n",
        "text = 'Bill works for GeeksforGeeks so he went to Delhi for a meetup.'\n",
        "named_entity_recognition(text)\n"
      ],
      "execution_count": 40,
      "outputs": [
        {
          "output_type": "stream",
          "text": [
            "[nltk_data] Downloading package words to /root/nltk_data...\n",
            "[nltk_data]   Unzipping corpora/words.zip.\n",
            "[nltk_data] Downloading package maxent_ne_chunker to\n",
            "[nltk_data]     /root/nltk_data...\n",
            "[nltk_data]   Unzipping chunkers/maxent_ne_chunker.zip.\n",
            "(S\n",
            "  (PERSON Bill/NNP)\n",
            "  works/VBZ\n",
            "  for/IN\n",
            "  (ORGANIZATION GeeksforGeeks/NNP)\n",
            "  so/RB\n",
            "  he/PRP\n",
            "  went/VBD\n",
            "  to/TO\n",
            "  (GPE Delhi/NNP)\n",
            "  for/IN\n",
            "  a/DT\n",
            "  meetup/NN\n",
            "  ./.)\n"
          ],
          "name": "stdout"
        }
      ]
    }
  ]
}